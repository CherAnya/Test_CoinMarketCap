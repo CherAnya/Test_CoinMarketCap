{
 "cells": [
  {
   "cell_type": "code",
   "execution_count": 3,
   "metadata": {},
   "outputs": [],
   "source": [
    "import selenium\n",
    "import time\n",
    "import requests\n",
    "import pandas as pd\n",
    "import numpy as np\n",
    "import threading\n",
    "import math\n",
    "\n",
    "from selenium import webdriver\n",
    "from webdriver_manager.chrome import ChromeDriverManager\n",
    "from selenium.webdriver.support.ui import Select \n",
    "from selenium.webdriver.common.keys import Keys"
   ]
  },
  {
   "cell_type": "code",
   "execution_count": 4,
   "metadata": {},
   "outputs": [],
   "source": [
    "# создание датафрейма для записи данных\n",
    "columns = ['Name', 'Price', '24h', '7d', 'Market_Cup', 'Volume', 'Circulating_Supply']\n",
    "df = pd.DataFrame(columns = columns)"
   ]
  },
  {
   "cell_type": "code",
   "execution_count": 5,
   "metadata": {},
   "outputs": [
    {
     "name": "stdout",
     "output_type": "stream",
     "text": [
      "Время отклика веб-сайта, с: 0.173012\n"
     ]
    }
   ],
   "source": [
    "# функция к заданию 1_1\n",
    "def test_1():\n",
    "    try:\n",
    "        link = \"https://coinmarketcap.com/\"\n",
    "        \n",
    "        browser = webdriver.Chrome()\n",
    "        \n",
    "        # время отклика веб-сайта         \n",
    "        time = requests.get(link).elapsed.total_seconds()\n",
    "        \n",
    "        # открытие браузера на весь экран         \n",
    "        browser.maximize_window()\n",
    "        \n",
    "        browser.get(link)\n",
    "        \n",
    "        # скроллим вниз\n",
    "        browser.execute_script('window.scrollBy(0, 500);')\n",
    "        \n",
    "        # сортировка по убыванию объема         \n",
    "        button = browser.find_element_by_xpath(\"//p[contains(text(), 'Volume')]\")\n",
    "        button.click()\n",
    "        \n",
    "        for i in range(10):\n",
    "            # поиск элемента на странице             \n",
    "            Name_element = browser.find_element_by_xpath(\"//*[@id='__next']/div/div[2]/div[1]/div/div[2]/div/div/div/div/table/tbody/tr[\" + str(i + 1) + \"]/td[3]/a/div/div/p\")\n",
    "            # получение данных             \n",
    "            Name = Name_element.text\n",
    "            # запись в датафрейм            \n",
    "            df.loc[i, 'Name'] = Name\n",
    "            Price_element = browser.find_element_by_xpath(\"//*[@id='__next']/div/div[2]/div[1]/div/div[2]/div/div/div/div/table/tbody/tr[\" + str(i + 1) + \"]/td[4]/div/a\")\n",
    "            Price = Price_element.text\n",
    "            df.loc[i, 'Price'] = Price\n",
    "            h24_element = browser.find_element_by_xpath(\"//*[@id='__next']/div/div[2]/div[1]/div/div[2]/div/div/div/div/table/tbody/tr[\" + str(i + 1) + \"]/td[5]/div/div/p\")\n",
    "            h24 = h24_element.text\n",
    "            df.loc[i, '24h'] = h24\n",
    "            d7_element = browser.find_element_by_xpath(\"//*[@id='__next']/div/div[2]/div[1]/div/div[2]/div/div/div/div/table/tbody/tr[\" + str(i + 1) + \"]/td[6]/div/div/p\")\n",
    "            d7 = d7_element.text\n",
    "            df.loc[i, '7d'] = d7\n",
    "            Market_Cup_element = browser.find_element_by_xpath(\"//*[@id='__next']/div/div[2]/div[1]/div/div[2]/div/div/div/div/table/tbody/tr[\" + str(i + 1) + \"]/td[7]/p\")\n",
    "            Market_Cup = Market_Cup_element.text\n",
    "            df.loc[i, 'Market_Cup'] = Market_Cup\n",
    "            Volume_element = browser.find_element_by_xpath(\"//*[@id='__next']/div/div[2]/div[1]/div/div[2]/div/div/div/div/table/tbody/tr[\" + str(i + 1) + \"]/td[8]/div/a/p\")\n",
    "            Volume = Volume_element.text\n",
    "            df.loc[i, 'Volume'] = Volume\n",
    "            Circulating_Supply_element = browser.find_element_by_xpath(\"//*[@id='__next']/div/div[2]/div[1]/div/div[2]/div/div/div/div/table/tbody/tr[\" + str(i + 1) + \"]/td[9]/div/div/p\")\n",
    "            Circulating_Supply = Circulating_Supply_element.text\n",
    "            df.loc[i, 'Circulating_Supply'] = Circulating_Supply\n",
    "        \n",
    "    finally: \n",
    "        browser.quit()\n",
    "        \n",
    "    # сохранение данных в файл\n",
    "    df.to_csv(r'C:\\Решение_тестового_задания_Чересова\\output.csv', sep=';', index = None)\n",
    "        \n",
    "    # вывод времени отклика веб-сайта     \n",
    "    print('Время отклика веб-сайта, с:', time)\n",
    "\n",
    "test_1()"
   ]
  },
  {
   "cell_type": "code",
   "execution_count": 9,
   "metadata": {},
   "outputs": [
    {
     "name": "stdout",
     "output_type": "stream",
     "text": [
      "Время отклика веб-сайта, с: 0.172527\n",
      "Время отклика веб-сайта, с: 0.158068\n",
      "Время отклика веб-сайта, с: 0.155792\n",
      "Время отклика веб-сайта, с: 0.174367\n",
      "Время отклика веб-сайта, с: 0.163995\n",
      "Время отклика веб-сайта, с: 0.168701\n"
     ]
    }
   ],
   "source": [
    "# задание 1_2\n",
    "# асинхронный запуск теста\n",
    "for i in range(6):\n",
    "    t = threading.Thread(target = test_1)\n",
    "    t.start()"
   ]
  },
  {
   "cell_type": "code",
   "execution_count": 11,
   "metadata": {},
   "outputs": [
    {
     "name": "stdout",
     "output_type": "stream",
     "text": [
      "Скорость ответов от сервера, с: 6.0395591121848105\n"
     ]
    }
   ],
   "source": [
    "# расчет скорости ответов от сервера в секунду\n",
    "rpc = 6 / (0.172527 + 0.158068 + 0.155792 + 0.174367 + 0.163995 + 0.168701)\n",
    "print('Скорость ответов от сервера, с:', rpc)"
   ]
  },
  {
   "cell_type": "code",
   "execution_count": 8,
   "metadata": {},
   "outputs": [
    {
     "name": "stdout",
     "output_type": "stream",
     "text": [
      "Выберите язык из списка ниже (например, RU):\n",
      "čeština CS\n",
      "dansk DA\n",
      "Deutsch DE\n",
      "ελληνικά EL\n",
      "English EN\n",
      "Español ES\n",
      "Filipino FIL\n",
      "Français FR\n",
      "हिन्दी HI\n",
      "magyar HU\n",
      "Bahasa Indonesia ID\n",
      "Italiano IT\n",
      "日本語 JA\n",
      "한국어 KO\n",
      "Nederlands NL\n",
      "Norsk NO\n",
      "język polski PL\n",
      "Português Brasil PT-BR\n",
      "Română RO\n",
      "Русский RU\n",
      "Slovenčina SK\n",
      "Svenska SV\n",
      "ไทย TH\n",
      "Türkçe TR\n",
      "Tiếng Việt VI\n",
      "简体中文 ZH\n",
      "繁體中文 ZH-TW\n",
      "Язык: HU\n"
     ]
    }
   ],
   "source": [
    "# функция к заданию 2\n",
    "def test_2():\n",
    "    try:\n",
    "        link = \"https://coinmarketcap.com/\"\n",
    "        \n",
    "        browser = webdriver.Chrome()\n",
    "        \n",
    "        # открытие браузера на весь экран         \n",
    "        browser.maximize_window()\n",
    "        \n",
    "        browser.get(link)\n",
    "        \n",
    "        print('Выберите язык из списка ниже (например, RU):')\n",
    "        \n",
    "        # нажатие на кнопку выбора языка         \n",
    "        button = browser.find_element_by_xpath('//*[@id=\"__next\"]/div/div[1]/div[3]/div[1]/div/div[2]/div[3]/div/div/button')\n",
    "        button.click()\n",
    "        \n",
    "        # вывод всех возможных языков пользователю           \n",
    "        for i in range(27):\n",
    "            lang_element_1 = browser.find_element_by_xpath('//*[@id=\"__next\"]/div/div[1]/div[3]/div[1]/div/div[2]/div[3]/div/div[2]/div/div[2]/div[' + str(i + 1) + ']/a')\n",
    "            lang_name_1 = lang_element_1.text\n",
    "            print(lang_name_1)\n",
    "            \n",
    "        # ввод языка пользователем         \n",
    "        lang = input('Язык: ')\n",
    "        \n",
    "        for j in range(27):\n",
    "            lang_element_2 = browser.find_element_by_xpath('//*[@id=\"__next\"]/div/div[1]/div[3]/div[1]/div/div[2]/div[3]/div/div[2]/div/div[2]/div[' + str(j + 1) + ']/a/span[2]')\n",
    "            lang_name_2 = lang_element_2.text\n",
    "            if lang_name_2 == lang:\n",
    "                input_1 = browser.find_element_by_xpath('//*[@id=\"__next\"]/div/div[1]/div[3]/div[1]/div/div[2]/div[3]/div/div[2]/form/div/input')\n",
    "                input_1.send_keys(lang)\n",
    "                button_1 = browser.find_element_by_xpath('//*[@id=\"__next\"]/div/div[1]/div[3]/div[1]/div/div[2]/div[3]/div/div[2]/div/div[1]/div[1]')\n",
    "                button_1.click()\n",
    "                break\n",
    "        \n",
    "        # для проверки правильности выбранного языка         \n",
    "        time.sleep(30)\n",
    "        \n",
    "    finally: \n",
    "        browser.quit()\n",
    "\n",
    "test_2()"
   ]
  }
 ],
 "metadata": {
  "kernelspec": {
   "display_name": "Python 3",
   "language": "python",
   "name": "python3"
  },
  "language_info": {
   "codemirror_mode": {
    "name": "ipython",
    "version": 3
   },
   "file_extension": ".py",
   "mimetype": "text/x-python",
   "name": "python",
   "nbconvert_exporter": "python",
   "pygments_lexer": "ipython3",
   "version": "3.7.3"
  }
 },
 "nbformat": 4,
 "nbformat_minor": 2
}
